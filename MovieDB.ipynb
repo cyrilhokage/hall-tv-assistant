{
 "cells": [
  {
   "cell_type": "markdown",
   "id": "cc38b242",
   "metadata": {},
   "source": [
    "# The movie DB tests"
   ]
  },
  {
   "cell_type": "code",
   "execution_count": 3,
   "id": "57ed404e",
   "metadata": {},
   "outputs": [],
   "source": [
    "import requests\n",
    "import json"
   ]
  },
  {
   "cell_type": "code",
   "execution_count": 4,
   "id": "e35cf6b6",
   "metadata": {},
   "outputs": [],
   "source": [
    "API_KEY = \"69cce8dbf435199baf4ab9dfcb63616d\""
   ]
  },
  {
   "cell_type": "code",
   "execution_count": 13,
   "metadata": {},
   "outputs": [],
   "source": [
    "urlGet = f\"https://api.themoviedb.org/3/tv/76479\"\n",
    "params = dict(api_key=API_KEY, language=\"fr-FR\")\n",
    "req = requests.get(urlGet, params)\n",
    "data = json.loads(req.content)"
   ]
  },
  {
   "cell_type": "code",
   "execution_count": 19,
   "metadata": {},
   "outputs": [
    {
     "data": {
      "text/plain": [
       "{'adult': False,\n",
       " 'backdrop_path': '/68sanslplXryiJWzv0uMuXjJBmB.jpg',\n",
       " 'created_by': [{'id': 58321,\n",
       "   'credit_id': '5f3814c011c066003637f6a8',\n",
       "   'name': 'Eric Kripke',\n",
       "   'gender': 2,\n",
       "   'profile_path': '/dd7EgfOEKPqQxWtBfAvjYZahbSc.jpg'}],\n",
       " 'episode_run_time': [60],\n",
       " 'first_air_date': '2019-07-25',\n",
       " 'genres': [{'id': 10765, 'name': 'Science-Fiction & Fantastique'},\n",
       "  {'id': 10759, 'name': 'Action & Adventure'}],\n",
       " 'homepage': 'https://www.amazon.com/dp/B0875L45GK',\n",
       " 'id': 76479,\n",
       " 'in_production': True,\n",
       " 'languages': ['en'],\n",
       " 'last_air_date': '2022-07-07',\n",
       " 'last_episode_to_air': {'air_date': '2022-07-07',\n",
       "  'episode_number': 8,\n",
       "  'id': 3435049,\n",
       "  'name': \"L'Instant vieux blancs déchainés\",\n",
       "  'overview': \"Appel à tous les patriotes ! Montrons que nous soutenons le Protecteur et que nous n'allons pas laisser Stella et sa Maison de l'Horreur s'en tirer avec son trafic d'enfants afin de boire leur adrénaline ! Il est temps pour les vrais américains de se défendre ! Rejoignez les Pros-Protecteur et les Stormchasers demain au square de Vought ! Reculez et tenez-vous prêts !\",\n",
       "  'production_code': '',\n",
       "  'runtime': 62,\n",
       "  'season_number': 3,\n",
       "  'show_id': 76479,\n",
       "  'still_path': '/kteLc9xtCOOjwvVNHjxNqJxu0OA.jpg',\n",
       "  'vote_average': 8.13,\n",
       "  'vote_count': 23},\n",
       " 'name': 'The Boys',\n",
       " 'next_episode_to_air': None,\n",
       " 'networks': [{'id': 1024,\n",
       "   'name': 'Amazon',\n",
       "   'logo_path': '/ifhbNuuVnlwYy5oXA5VIb2YR8AZ.png',\n",
       "   'origin_country': ''}],\n",
       " 'number_of_episodes': 25,\n",
       " 'number_of_seasons': 4,\n",
       " 'origin_country': ['US'],\n",
       " 'original_language': 'en',\n",
       " 'original_name': 'The Boys',\n",
       " 'overview': 'Lorsque les super-héros abusent de leurs super-pouvoirs au lieu de les utiliser pour faire le bien, les Boys se lancent dans une quête héroïque pour révéler la vérité sur The Seven et Vought, le conglomérat qui couvre leurs sales secrets.',\n",
       " 'popularity': 689.397,\n",
       " 'poster_path': '/4Tw8TB9ikrcgzJgR0LOvgfnXD74.jpg',\n",
       " 'production_companies': [{'id': 333,\n",
       "   'logo_path': '/5xUJfzPZ8jWJUDzYtIeuPO4qPIa.png',\n",
       "   'name': 'Original Film',\n",
       "   'origin_country': 'US'},\n",
       "  {'id': 2526,\n",
       "   'logo_path': '/kzIW6QWhacDwzGoXEIWhac8rb70.png',\n",
       "   'name': 'Kickstart',\n",
       "   'origin_country': 'US'},\n",
       "  {'id': 11073,\n",
       "   'logo_path': '/wHs44fktdoj6c378ZbSWfzKsM2Z.png',\n",
       "   'name': 'Sony Pictures Television Studios',\n",
       "   'origin_country': 'US'},\n",
       "  {'id': 16615,\n",
       "   'logo_path': '/dbxHaOtibTKvP6dUMRYdwUOULgY.png',\n",
       "   'name': 'Point Grey Pictures',\n",
       "   'origin_country': 'US'},\n",
       "  {'id': 20580,\n",
       "   'logo_path': '/oRR9EXVoKP9szDkVKlze5HVJS7g.png',\n",
       "   'name': 'Amazon Studios',\n",
       "   'origin_country': 'US'},\n",
       "  {'id': 33728,\n",
       "   'logo_path': None,\n",
       "   'name': 'NightSky Productions',\n",
       "   'origin_country': 'US'},\n",
       "  {'id': 38398,\n",
       "   'logo_path': None,\n",
       "   'name': 'Kripke Enterprises',\n",
       "   'origin_country': 'US'},\n",
       "  {'id': 40457,\n",
       "   'logo_path': None,\n",
       "   'name': 'Amazon Productions',\n",
       "   'origin_country': 'US'}],\n",
       " 'production_countries': [{'iso_3166_1': 'US',\n",
       "   'name': 'United States of America'}],\n",
       " 'seasons': [{'air_date': '2020-09-10',\n",
       "   'episode_count': 24,\n",
       "   'id': 163277,\n",
       "   'name': 'Épisodes spéciaux',\n",
       "   'overview': '',\n",
       "   'poster_path': '/qxUIgZ8GDEfSLTws0zQIxApAAWb.jpg',\n",
       "   'season_number': 0},\n",
       "  {'air_date': '2019-07-25',\n",
       "   'episode_count': 8,\n",
       "   'id': 98085,\n",
       "   'name': 'Saison 1',\n",
       "   'overview': 'THE BOYS est une variation irrévérencieuse sur des super-héros, aussi connus que des vedettes, aussi influents que des politiciens et aussi révérés que des dieux, qui abusent de leurs super-pouvoirs au lieu de faire le bien. Les sans pouvoir affrontent les surpuissants dans The Boys, qui nous entraîne dans une quête héroïque pour dévoiler la vérité sur les Sept et le redoutable soutien de Vought.',\n",
       "   'poster_path': '/wEGjCJ2xWdnssIXl9szcKb5hBsh.jpg',\n",
       "   'season_number': 1},\n",
       "  {'air_date': '2020-09-03',\n",
       "   'episode_count': 8,\n",
       "   'id': 154681,\n",
       "   'name': 'Saison 2',\n",
       "   'overview': \"Dans la saison 2 de THE BOYS, la tension monte. Butcher, Hughie et le reste de l'équipe se remettent des évènements de la saison 1. En fuite, ils ont du mal à se défendre contre les Superhéros. Vought, la société qui gère les héros, profite de la panique provoquée par les Supervillains pour s’enrichir. Une nouvelle héroïne, Stormfront, débarque à Vought défiant Le Protecteur, déjà sur les nerfs.\",\n",
       "   'poster_path': '/3RRTCSQ6uaNTBhZBnD3uW8RPD0w.jpg',\n",
       "   'season_number': 2},\n",
       "  {'air_date': '2022-06-02',\n",
       "   'episode_count': 8,\n",
       "   'id': 215686,\n",
       "   'name': 'Saison 3',\n",
       "   'overview': \"Ce fût une année calme. Le Protecteur est maîtrisé, Butcher travaille pour le gouvernement, supervisé par Hughie. Mais ces deux hommes ont hâte de transformer cette paix et cette tranquilité en sang et en os. Lorsque The Boys apprennent l'existence d'une arme mystérieuse capable de détruire un super, il s'en suit un chamboulement au sein des Sept, qui va conduire à une guerre et à la poursuite...\",\n",
       "   'poster_path': '/2secZlYhFcFHR73LV8JFH6bEVzY.jpg',\n",
       "   'season_number': 3},\n",
       "  {'air_date': None,\n",
       "   'episode_count': 1,\n",
       "   'id': 305753,\n",
       "   'name': 'Saison 4',\n",
       "   'overview': '',\n",
       "   'poster_path': None,\n",
       "   'season_number': 4}],\n",
       " 'spoken_languages': [{'english_name': 'English',\n",
       "   'iso_639_1': 'en',\n",
       "   'name': 'English'}],\n",
       " 'status': 'Returning Series',\n",
       " 'tagline': 'Ne rencontrez jamais vos héros.',\n",
       " 'type': 'Scripted',\n",
       " 'vote_average': 8.47,\n",
       " 'vote_count': 7436}"
      ]
     },
     "execution_count": 19,
     "metadata": {},
     "output_type": "execute_result"
    }
   ],
   "source": [
    "data"
   ]
  },
  {
   "cell_type": "code",
   "execution_count": 8,
   "id": "f8e19ab6",
   "metadata": {},
   "outputs": [],
   "source": [
    "\n",
    "# Function to create program\n",
    "def getProgramData(tmdb_id, media_type):\n",
    "\n",
    "    params = dict(api_key=API_KEY, language=\"fr-FR\")\n",
    "\n",
    "    if media_type == \"tv\":\n",
    "        urlGet = f\"https://api.themoviedb.org/3/tv/{tmdb_id}\"\n",
    "\n",
    "        try:\n",
    "            \n",
    "            req = requests.get(urlGet, params)\n",
    "            req.raise_for_status()\n",
    "        \n",
    "            data = json.loads(req.content)\n",
    "            \n",
    "            list_networks = [network[\"name\"] for network in data[\"networks\"]]\n",
    "\n",
    "            name = data[\"name\"]\n",
    "            release_date = data[\"first_air_date\"]\n",
    "\n",
    "\n",
    "        except KeyError:\n",
    "            return False, None  # Write specific message here in logs\n",
    "\n",
    "        except json.JSONDecodeError as jsonErr:\n",
    "            return False, None  # Write specific message here in logs\n",
    "\n",
    "    elif media_type == \"movie\":\n",
    "        \n",
    "        urlMovie = f\"https://api.themoviedb.org/3/movie/{tmdb_id}\"\n",
    "\n",
    "        try:\n",
    "            \n",
    "            req = requests.get(urlMovie, params)\n",
    "            req.raise_for_status()\n",
    "        \n",
    "            data = json.loads(req.content)\n",
    "\n",
    "            list_networks = [\n",
    "                production_company[\"name\"]\n",
    "                for production_company in data[\"production_companies\"]\n",
    "            ]\n",
    "\n",
    "            name = data[\"title\"]\n",
    "            release_date = data[\"release_date\"]\n",
    "        \n",
    "\n",
    "\n",
    "        except KeyError:\n",
    "            return False, None  # Write specific message here in logs\n",
    "\n",
    "        except json.JSONDecodeError as jsonErr:\n",
    "            return False, None  # Write specific message here in logs\n",
    "\n",
    "    else:\n",
    "\n",
    "        return False, None  # Raise an error or write log here\n",
    "\n",
    "    list_genres = [genre[\"name\"] for genre in data[\"genres\"]]\n",
    "\n",
    "    program = dict(\n",
    "        tmdb_id=tmdb_id,\n",
    "        name=name,\n",
    "        homepage_link=data[\"homepage\"],\n",
    "        source=\", \".join(list_networks)[0:200],\n",
    "        synopsis=data[\"overview\"],\n",
    "        poster_path=data[\"poster_path\"],\n",
    "        tags=\", \".join(list_genres),\n",
    "        release_date=release_date\n",
    "    )\n",
    "\n",
    "    return program\n",
    "\n"
   ]
  },
  {
   "cell_type": "code",
   "execution_count": 18,
   "id": "2540344f",
   "metadata": {},
   "outputs": [
    {
     "data": {
      "text/plain": [
       "{'tmdb_id': 1425,\n",
       " 'name': 'House of Cards',\n",
       " 'homepage_link': 'http://www.netflix.com/title/70178217',\n",
       " 'source': 'Netflix',\n",
       " 'synopsis': 'Le membre du Congrès américain Frank Underwood ne recule devant rien pour tout conquérir\\xa0: pouvoir, sexe, corruption, manipulation et avidité.',\n",
       " 'poster_path': '/hKWxWjFwnMvkWQawbhvC0Y7ygQ8.jpg',\n",
       " 'tags': 'Drame',\n",
       " 'release_date': '2013-02-01'}"
      ]
     },
     "execution_count": 18,
     "metadata": {},
     "output_type": "execute_result"
    }
   ],
   "source": [
    "program"
   ]
  },
  {
   "cell_type": "code",
   "execution_count": 16,
   "id": "76c9c703",
   "metadata": {},
   "outputs": [],
   "source": [
    "program = getProgramData(1425, \"tv\")"
   ]
  },
  {
   "cell_type": "code",
   "execution_count": 9,
   "id": "cf384db2",
   "metadata": {},
   "outputs": [],
   "source": [
    "tmdb_id=94997\n",
    "params = dict(api_key=API_KEY, language=\"fr-FR\")\n",
    "urlGet = f\"https://api.themoviedb.org/3/tv/{tmdb_id}\"\n",
    "req = requests.get(urlGet, params)\n",
    "req.raise_for_status()\n",
    "data = json.loads(req.content)"
   ]
  },
  {
   "cell_type": "markdown",
   "id": "0014498b",
   "metadata": {},
   "source": [
    "# Search\n",
    "\n",
    "image url : https://image.tmdb.org/t/p/w200/6AEB4uiGgnSvgqgGxzBUmDAOJ6K.jpg"
   ]
  },
  {
   "cell_type": "markdown",
   "id": "124ac868",
   "metadata": {},
   "source": [
    "### Movie"
   ]
  },
  {
   "cell_type": "code",
   "execution_count": 13,
   "id": "e926e407",
   "metadata": {},
   "outputs": [],
   "source": [
    "query=\"Jack Reacher\"\n",
    "params = dict(api_key=API_KEY, language=\"fr-FR\", query=query)\n",
    "urlSearch = f\"https://api.themoviedb.org/3/search/movie\"\n",
    "req = requests.get(urlSearch, params)\n",
    "req.raise_for_status()\n",
    "data = json.loads(req.content)"
   ]
  },
  {
   "cell_type": "code",
   "execution_count": 15,
   "id": "539256d1",
   "metadata": {},
   "outputs": [
    {
     "data": {
      "text/plain": [
       "2"
      ]
     },
     "execution_count": 15,
     "metadata": {},
     "output_type": "execute_result"
    }
   ],
   "source": [
    "len(data[\"results\"])"
   ]
  },
  {
   "cell_type": "markdown",
   "id": "6b7cd8fe",
   "metadata": {},
   "source": [
    "### Série"
   ]
  },
  {
   "cell_type": "code",
   "execution_count": 18,
   "id": "8a5303a7",
   "metadata": {},
   "outputs": [],
   "source": [
    "query=\"House of dragons\"\n",
    "params = dict(api_key=API_KEY, language=\"fr-FR\", query=query)\n",
    "urlSearch = f\"https://api.themoviedb.org/3/search/tv\"\n",
    "req = requests.get(urlSearch, params)\n",
    "req.raise_for_status()\n",
    "data = json.loads(req.content)"
   ]
  },
  {
   "cell_type": "code",
   "execution_count": 20,
   "id": "49ae4987",
   "metadata": {},
   "outputs": [
    {
     "data": {
      "text/plain": [
       "{'page': 1,\n",
       " 'results': [{'backdrop_path': '/383FROZ26YRZq0Ab3hN7wBPjkgG.jpg',\n",
       "   'first_air_date': '2022-08-21',\n",
       "   'genre_ids': [99],\n",
       "   'id': 209575,\n",
       "   'name': 'The House That Dragons Built',\n",
       "   'origin_country': ['US'],\n",
       "   'original_language': 'en',\n",
       "   'original_name': 'The House That Dragons Built',\n",
       "   'overview': '',\n",
       "   'popularity': 12.331,\n",
       "   'poster_path': '/vTu8SPgCHwhsXmw0D1XzVq9YMRW.jpg',\n",
       "   'vote_average': 10,\n",
       "   'vote_count': 1}],\n",
       " 'total_pages': 1,\n",
       " 'total_results': 1}"
      ]
     },
     "execution_count": 20,
     "metadata": {},
     "output_type": "execute_result"
    }
   ],
   "source": [
    "data"
   ]
  },
  {
   "cell_type": "code",
   "execution_count": 35,
   "id": "f6fbb041",
   "metadata": {},
   "outputs": [],
   "source": [
    "def searchProgram(programType, query):\n",
    "    \n",
    "    params = dict(api_key=API_KEY, language=\"fr-FR\", query=query)\n",
    "    urlSearch = f\"https://api.themoviedb.org/3/search/{programType}\"\n",
    "    \n",
    "    try:\n",
    "        req = requests.get(urlSearch, params)\n",
    "        req.raise_for_status()\n",
    "        data = json.loads(req.content)\n",
    "        \n",
    "        return data[\"results\"]\n",
    "        \n",
    "    except requests.exceptions.HTTPError as errh:\n",
    "        print (\"Http Error:\",errh)\n",
    "        return None, errt\n",
    "    \n",
    "    except requests.exceptions.ConnectionError as errc:\n",
    "        print (\"Error Connecting:\",errc)\n",
    "        return None, errt\n",
    "    \n",
    "    except requests.exceptions.Timeout as errt:\n",
    "        print (\"Timeout Error:\",errt)\n",
    "        return None, errt\n",
    "    \n",
    "    except requests.exceptions.RequestException as err:\n",
    "        print (\"OOps: Something Else\",err)\n",
    "        return None, err\n",
    "            \n",
    "    "
   ]
  },
  {
   "cell_type": "code",
   "execution_count": 63,
   "id": "b93261cd",
   "metadata": {},
   "outputs": [],
   "source": [
    "programType = \"tv\"\n",
    "query = \"chloe\"\n",
    "results = searchProgram(programType, query)"
   ]
  },
  {
   "cell_type": "code",
   "execution_count": 47,
   "id": "137616ef",
   "metadata": {},
   "outputs": [
    {
     "data": {
      "text/plain": [
       "6"
      ]
     },
     "execution_count": 47,
     "metadata": {},
     "output_type": "execute_result"
    }
   ],
   "source": [
    "len(results)"
   ]
  },
  {
   "cell_type": "code",
   "execution_count": 2,
   "metadata": {},
   "outputs": [
    {
     "data": {
      "text/plain": [
       "'3763458'"
      ]
     },
     "execution_count": 2,
     "metadata": {},
     "output_type": "execute_result"
    }
   ],
   "source": [
    "\"1 - 3763458\".split(\" - \")[1]"
   ]
  },
  {
   "cell_type": "code",
   "execution_count": 57,
   "id": "8f59ef7d",
   "metadata": {},
   "outputs": [
    {
     "data": {
      "text/plain": [
       "{'backdrop_path': None,\n",
       " 'first_air_date': '',\n",
       " 'genre_ids': [],\n",
       " 'id': 153458,\n",
       " 'name': 'Naruto Chikara',\n",
       " 'origin_country': ['JP'],\n",
       " 'original_language': 'ja',\n",
       " 'original_name': 'Naruto Chikara',\n",
       " 'overview': '',\n",
       " 'popularity': 7.578,\n",
       " 'poster_path': None,\n",
       " 'vote_average': 7.5,\n",
       " 'vote_count': 1}"
      ]
     },
     "execution_count": 57,
     "metadata": {},
     "output_type": "execute_result"
    }
   ],
   "source": [
    "results[1]"
   ]
  },
  {
   "cell_type": "code",
   "execution_count": 59,
   "id": "1d2c8f73",
   "metadata": {},
   "outputs": [],
   "source": [
    "IMG_BASE_URL = \"https://image.tmdb.org/t/p/w200\""
   ]
  },
  {
   "cell_type": "code",
   "execution_count": 64,
   "id": "7f220ac0",
   "metadata": {},
   "outputs": [],
   "source": [
    "elements = [\n",
    "                dict(\n",
    "                    {\n",
    "                        \"title\": result[\"name\"],\n",
    "                        \"image_url\": IMG_BASE_URL + result[\"poster_path\"],\n",
    "                        \"subtitle\": result[\"original_name\"],\n",
    "                        \"default_action\": {\n",
    "                            \"type\": \"web_url\",\n",
    "                            \"url\": \"https://www.originalcoastclothing.com/\",\n",
    "                            \"webview_height_ratio\": \"tall\",\n",
    "                        },\n",
    "                        \"buttons\": [\n",
    "                            {\n",
    "                                \"type\": \"web_url\",\n",
    "                                \"url\": \"https://www.originalcoastclothing.com/\",\n",
    "                                \"title\": \"A voir\"\n",
    "                            }, {\n",
    "                                \"type\": \"postback\",\n",
    "                                \"title\": \"Terminé\",\n",
    "                                \"payload\": \"DEVELOPER_DEFINED_PAYLOAD\"\n",
    "                            }\n",
    "                        ]\n",
    "                    }\n",
    "                ) if result[\"poster_path\"] != None else None \n",
    "                for result in results \n",
    "            ]"
   ]
  },
  {
   "cell_type": "code",
   "execution_count": 65,
   "id": "06a6cc1a",
   "metadata": {},
   "outputs": [
    {
     "data": {
      "text/plain": [
       "[{'title': 'Chloe',\n",
       "  'image_url': 'https://image.tmdb.org/t/p/w200/3sHAsDMik5CyJCwrfb0KS6EaBdR.jpg',\n",
       "  'subtitle': 'Chloe',\n",
       "  'default_action': {'type': 'web_url',\n",
       "   'url': 'https://www.originalcoastclothing.com/',\n",
       "   'webview_height_ratio': 'tall'},\n",
       "  'buttons': [{'type': 'web_url',\n",
       "    'url': 'https://www.originalcoastclothing.com/',\n",
       "    'title': 'A voir'},\n",
       "   {'type': 'postback',\n",
       "    'title': 'Terminé',\n",
       "    'payload': 'DEVELOPER_DEFINED_PAYLOAD'}]},\n",
       " {'title': 'Smallville: Chloe Chronicles',\n",
       "  'image_url': 'https://image.tmdb.org/t/p/w200/pCO7atSxXQ04GqBHIz5VDSzgu6o.jpg',\n",
       "  'subtitle': 'Smallville: Chloe Chronicles',\n",
       "  'default_action': {'type': 'web_url',\n",
       "   'url': 'https://www.originalcoastclothing.com/',\n",
       "   'webview_height_ratio': 'tall'},\n",
       "  'buttons': [{'type': 'web_url',\n",
       "    'url': 'https://www.originalcoastclothing.com/',\n",
       "    'title': 'A voir'},\n",
       "   {'type': 'postback',\n",
       "    'title': 'Terminé',\n",
       "    'payload': 'DEVELOPER_DEFINED_PAYLOAD'}]},\n",
       " {'title': 'The Nine Lives of Chloe King',\n",
       "  'image_url': 'https://image.tmdb.org/t/p/w200/5dbVI8Cwf0HwDmPCjsw36ZgBXNq.jpg',\n",
       "  'subtitle': 'The Nine Lives of Chloe King',\n",
       "  'default_action': {'type': 'web_url',\n",
       "   'url': 'https://www.originalcoastclothing.com/',\n",
       "   'webview_height_ratio': 'tall'},\n",
       "  'buttons': [{'type': 'web_url',\n",
       "    'url': 'https://www.originalcoastclothing.com/',\n",
       "    'title': 'A voir'},\n",
       "   {'type': 'postback',\n",
       "    'title': 'Terminé',\n",
       "    'payload': 'DEVELOPER_DEFINED_PAYLOAD'}]},\n",
       " {'title': 'Chloé Magique',\n",
       "  'image_url': 'https://image.tmdb.org/t/p/w200/235HoVZpiqSjCgQd9SHDODOP1I9.jpg',\n",
       "  'subtitle': \"Chloe's Closet\",\n",
       "  'default_action': {'type': 'web_url',\n",
       "   'url': 'https://www.originalcoastclothing.com/',\n",
       "   'webview_height_ratio': 'tall'},\n",
       "  'buttons': [{'type': 'web_url',\n",
       "    'url': 'https://www.originalcoastclothing.com/',\n",
       "    'title': 'A voir'},\n",
       "   {'type': 'postback',\n",
       "    'title': 'Terminé',\n",
       "    'payload': 'DEVELOPER_DEFINED_PAYLOAD'}]},\n",
       " None]"
      ]
     },
     "execution_count": 65,
     "metadata": {},
     "output_type": "execute_result"
    }
   ],
   "source": [
    "elements"
   ]
  },
  {
   "cell_type": "markdown",
   "id": "0323dbd8",
   "metadata": {},
   "source": [
    "# Script "
   ]
  },
  {
   "cell_type": "code",
   "execution_count": 34,
   "id": "9cb5f91a",
   "metadata": {},
   "outputs": [],
   "source": [
    "import json\n",
    "import requests\n",
    "\n",
    "API_KEY = \"69cce8dbf435199baf4ab9dfcb63616d\"\n",
    "\n",
    "\n",
    "def searchProgram(programType, query): \n",
    "    params = dict(api_key=API_KEY, language=\"fr-FR\", query=query)\n",
    "    urlSearch = f\"https://api.themoviedb.org/3/search/{programType}\"\n",
    "    \n",
    "    try:\n",
    "        req = requests.get(urlSearch, params)\n",
    "        req.raise_for_status()\n",
    "        data = json.loads(req.content)\n",
    "        \n",
    "        return data[\"results\"]\n",
    "        \n",
    "    except requests.exceptions.HTTPError as errh:\n",
    "        print (\"Http Error:\",errh)\n",
    "        return None, errt\n",
    "\n",
    "    \n",
    "# Function to create program\n",
    "def getProgramData(tmdb_id, media_type):\n",
    "    params = dict(api_key=API_KEY, language=\"fr-FR\")\n",
    "    urlSearch = f\"https://api.themoviedb.org/3/{media_type}/{tmdb_id}\"\n",
    "    \n",
    "    try:\n",
    "        req = requests.get(urlSearch, params)\n",
    "        req.raise_for_status()\n",
    "        data = json.loads(req.content)\n",
    "        list_genres = [genre[\"name\"] for genre in data[\"genres\"]]\n",
    "        \n",
    "        if media_type == \"tv\":\n",
    "            name = data[\"name\"]\n",
    "            release_date = data[\"first_air_date\"]\n",
    "            list_networks = [network[\"name\"] for network in data[\"networks\"]]\n",
    "            \n",
    "        elif media_type == \"movie\":\n",
    "            name = data[\"title\"]\n",
    "            release_date = data[\"release_date\"]\n",
    "            list_networks = [\n",
    "                production_company[\"name\"]\n",
    "                for production_company in data[\"production_companies\"]\n",
    "            ]\n",
    "            \n",
    "        else:\n",
    "            return None, False  # Raise an error or write log here\n",
    "        \n",
    "        return dict(\n",
    "            tmdb_id=tmdb_id,\n",
    "            name=name,\n",
    "            homepage_link=data[\"homepage\"],\n",
    "            source=\", \".join(list_networks)[0:200],\n",
    "            synopsis=data[\"overview\"],\n",
    "            poster_path=data[\"poster_path\"],\n",
    "            tags=\", \".join(list_genres),\n",
    "            release_date=release_date\n",
    "        ), True\n",
    "    \n",
    "    except requests.exceptions.HTTPError as errh:\n",
    "        print (\"Http Error:\",errh)\n",
    "        return None, errt\n",
    "\n",
    "\n",
    "    \n",
    "    "
   ]
  },
  {
   "cell_type": "code",
   "execution_count": null,
   "id": "ba3e4cf3",
   "metadata": {},
   "outputs": [],
   "source": []
  }
 ],
 "metadata": {
  "interpreter": {
   "hash": "916dbcbb3f70747c44a77c7bcd40155683ae19c65e1c03b4aa3499c5328201f1"
  },
  "kernelspec": {
   "display_name": "Python 3.7.3 64-bit",
   "name": "python3"
  },
  "language_info": {
   "codemirror_mode": {
    "name": "ipython",
    "version": 3
   },
   "file_extension": ".py",
   "mimetype": "text/x-python",
   "name": "python",
   "nbconvert_exporter": "python",
   "pygments_lexer": "ipython3",
   "version": "3.7.3"
  }
 },
 "nbformat": 4,
 "nbformat_minor": 5
}
