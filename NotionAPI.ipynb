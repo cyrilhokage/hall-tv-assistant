{
 "cells": [
  {
   "cell_type": "code",
   "execution_count": 1,
   "id": "587d5f9f",
   "metadata": {},
   "outputs": [],
   "source": [
    "import requests\n",
    "import json\n",
    "import traceback\n",
    "import logging"
   ]
  },
  {
   "cell_type": "code",
   "execution_count": 2,
   "id": "684ed93b",
   "metadata": {},
   "outputs": [],
   "source": [
    "database_id = \"42b4713090e341b8b0dd8c5827eed23b\"\n",
    "hall_tv_token = \"secret_FtcSWAqOIjt7PdoSJSO9UUg8biEvkBjsFqVaIc9zGYd\""
   ]
  },
  {
   "cell_type": "markdown",
   "id": "4a0aae86",
   "metadata": {},
   "source": [
    "## Etape 0 : Querry database\n"
   ]
  },
  {
   "cell_type": "code",
   "execution_count": 45,
   "id": "5ea8d8f2",
   "metadata": {},
   "outputs": [],
   "source": [
    "url = f\"https://api.notion.com/v1/databases/{database_id}/query\"\n",
    "\n",
    "payload = {\"page_size\": 100}\n",
    "\n",
    "headers = {\n",
    "    \"Accept\": \"application/json\",\n",
    "    \"Notion-Version\": \"2022-06-28\",\n",
    "    \"Content-Type\": \"application/json\",\n",
    "    \"Authorization\": f\"Bearer {hall_tv_token}\"\n",
    "}\n",
    "\n"
   ]
  },
  {
   "cell_type": "code",
   "execution_count": 18,
   "id": "c18a9fc7",
   "metadata": {},
   "outputs": [],
   "source": [
    "query = {\n",
    "        \"and\": [\n",
    "            {\n",
    "                \"property\": \"Nom\",\n",
    "                \"rich_text\": {\n",
    "                    \"contains\": \"Naruto\"\n",
    "                }\n",
    "            },\n",
    "            {\n",
    "                \"property\": \"Type\",\n",
    "                \"select\": {\n",
    "                    \"equals\": \"Film\"\n",
    "                }\n",
    "            }\n",
    "        ]\n",
    "    }"
   ]
  },
  {
   "cell_type": "code",
   "execution_count": 104,
   "metadata": {},
   "outputs": [],
   "source": [
    "query = {\n",
    "        \"property\": \"id\",\n",
    "        \"rich_text\": {\n",
    "            \"equals\": \"1425\"\n",
    "        }\n",
    "    }"
   ]
  },
  {
   "cell_type": "code",
   "execution_count": 47,
   "id": "bfc12834",
   "metadata": {},
   "outputs": [
    {
     "data": {
      "text/plain": [
       "{'page_size': 100}"
      ]
     },
     "execution_count": 47,
     "metadata": {},
     "output_type": "execute_result"
    }
   ],
   "source": [
    "payload"
   ]
  },
  {
   "cell_type": "code",
   "execution_count": 85,
   "id": "192163b7",
   "metadata": {},
   "outputs": [
    {
     "name": "stdout",
     "output_type": "stream",
     "text": [
      "{'type': 'emoji', 'emoji': '🔴'}\n"
     ]
    }
   ],
   "source": [
    "print(response.json()[\"results\"][2][\"icon\"])"
   ]
  },
  {
   "cell_type": "code",
   "execution_count": 49,
   "id": "b82e2eae",
   "metadata": {},
   "outputs": [],
   "source": [
    "def getPages(databaseId, headers, query):\n",
    "    \n",
    "    url = f\"https://api.notion.com/v1/databases/{databaseId}/query\"\n",
    "\n",
    "    payload = {\"page_size\": 100}\n",
    "    payload[\"filter\"] = query\n",
    "    \n",
    "    try : \n",
    "        response = requests.post(url, json=payload, headers=headers)\n",
    "        response.raise_for_status()\n",
    "        \n",
    "        return response.json()[\"results\"], True\n",
    "        \n",
    "    except requests.exceptions.HTTPError as errh:\n",
    "        print (\"Http Error:\",errh)\n",
    "        return None, errt\n",
    "    \n",
    "    except requests.exceptions.ConnectionError as errc:\n",
    "        print (\"Error Connecting:\",errc)\n",
    "        return None, errt\n",
    "    \n",
    "    except requests.exceptions.Timeout as errt:\n",
    "        print (\"Timeout Error:\",errt)\n",
    "        return None, errt\n",
    "    \n",
    "    except requests.exceptions.RequestException as err:\n",
    "        print (\"OOps: Something Else\",err)\n",
    "        return None, err\n",
    "    \n"
   ]
  },
  {
   "cell_type": "code",
   "execution_count": 105,
   "id": "d4042a7d",
   "metadata": {},
   "outputs": [
    {
     "data": {
      "text/plain": [
       "1"
      ]
     },
     "execution_count": 105,
     "metadata": {},
     "output_type": "execute_result"
    }
   ],
   "source": [
    "results, _ = getPages(databaseId=database_id, headers=headers, query=query)\n",
    "len(results)"
   ]
  },
  {
   "cell_type": "code",
   "execution_count": 117,
   "metadata": {},
   "outputs": [
    {
     "data": {
      "text/plain": [
       "[{'object': 'page',\n",
       "  'id': 'c0e24105-869b-44bb-ad96-385727f7c4e0',\n",
       "  'created_time': '2022-09-25T06:02:00.000Z',\n",
       "  'last_edited_time': '2022-09-25T06:14:00.000Z',\n",
       "  'created_by': {'object': 'user',\n",
       "   'id': '4f1b883d-b3ec-4016-9740-642779891763'},\n",
       "  'last_edited_by': {'object': 'user',\n",
       "   'id': '3afd1cdd-6893-4b61-8cb1-3f57e35f0052'},\n",
       "  'cover': {'type': 'external',\n",
       "   'external': {'url': 'https://www.notion.so/images/page-cover/nasa_eva_during_skylab_3.jpg'}},\n",
       "  'icon': {'type': 'emoji', 'emoji': '👅'},\n",
       "  'parent': {'type': 'database_id',\n",
       "   'database_id': '42b47130-90e3-41b8-b0dd-8c5827eed23b'},\n",
       "  'archived': False,\n",
       "  'properties': {'Note sur 5': {'id': ')Y7%22',\n",
       "    'type': 'select',\n",
       "    'select': {'id': '5c944de7-3f4b-4567-b3a1-fa2c71c540b6',\n",
       "     'name': '⭐️⭐️⭐️⭐️⭐️',\n",
       "     'color': 'default'}},\n",
       "   'Type': {'id': '%2F7eo',\n",
       "    'type': 'select',\n",
       "    'select': {'id': '4ac85597-5db1-4e0a-9c02-445575c38f76',\n",
       "     'name': 'Série TV',\n",
       "     'color': 'default'}},\n",
       "   'Éditeur': {'id': '%3E%24Pb',\n",
       "    'type': 'multi_select',\n",
       "    'multi_select': [{'id': '1b9b0c0c-17b0-4292-ad12-1364a51849de',\n",
       "      'name': 'Netflix',\n",
       "      'color': 'blue'}]},\n",
       "   'Résumé': {'id': '%3F%5C25',\n",
       "    'type': 'rich_text',\n",
       "    'rich_text': [{'type': 'text',\n",
       "      'text': {'content': 'Le membre du Congrès américain Frank Underwood ne recule devant rien pour tout conquérir\\xa0: pouvoir, sexe, corruption, manipulation et avidité.',\n",
       "       'link': None},\n",
       "      'annotations': {'bold': False,\n",
       "       'italic': False,\n",
       "       'strikethrough': False,\n",
       "       'underline': False,\n",
       "       'code': False,\n",
       "       'color': 'default'},\n",
       "      'plain_text': 'Le membre du Congrès américain Frank Underwood ne recule devant rien pour tout conquérir\\xa0: pouvoir, sexe, corruption, manipulation et avidité.',\n",
       "      'href': None}]},\n",
       "   'Date de publication/de sortie': {'id': '%3Fex%2B',\n",
       "    'type': 'date',\n",
       "    'date': None},\n",
       "   'Tags': {'id': 'Tj%3Cz',\n",
       "    'type': 'multi_select',\n",
       "    'multi_select': [{'id': '84897436-1341-45a2-9a0d-44bf8b71be2f',\n",
       "      'name': 'Drame',\n",
       "      'color': 'gray'}]},\n",
       "   'Lien': {'id': 'VVMi',\n",
       "    'type': 'url',\n",
       "    'url': 'http://www.netflix.com/title/70178217'},\n",
       "   'Statut': {'id': '%60zz5',\n",
       "    'type': 'select',\n",
       "    'select': {'id': 'e8f5f1d3-61c8-427f-b036-11f4245fd0fd',\n",
       "     'name': 'A voir',\n",
       "     'color': 'pink'}},\n",
       "   'Auteur': {'id': 'qNw_', 'type': 'multi_select', 'multi_select': []},\n",
       "   'id': {'id': '%7Cidi',\n",
       "    'type': 'rich_text',\n",
       "    'rich_text': [{'type': 'text',\n",
       "      'text': {'content': '1425', 'link': None},\n",
       "      'annotations': {'bold': False,\n",
       "       'italic': False,\n",
       "       'strikethrough': False,\n",
       "       'underline': False,\n",
       "       'code': False,\n",
       "       'color': 'default'},\n",
       "      'plain_text': '1425',\n",
       "      'href': None}]},\n",
       "   'Nom': {'id': 'title',\n",
       "    'type': 'title',\n",
       "    'title': [{'type': 'text',\n",
       "      'text': {'content': 'House of Cards', 'link': None},\n",
       "      'annotations': {'bold': False,\n",
       "       'italic': False,\n",
       "       'strikethrough': False,\n",
       "       'underline': False,\n",
       "       'code': False,\n",
       "       'color': 'default'},\n",
       "      'plain_text': 'House of Cards',\n",
       "      'href': None}]}},\n",
       "  'url': 'https://www.notion.so/House-of-Cards-c0e24105869b44bbad96385727f7c4e0'}]"
      ]
     },
     "execution_count": 117,
     "metadata": {},
     "output_type": "execute_result"
    }
   ],
   "source": [
    "results"
   ]
  },
  {
   "cell_type": "markdown",
   "id": "5acb531f",
   "metadata": {},
   "source": [
    "## Etape 2 fonctions CRUD\n",
    "\n",
    "- readDatabase\n",
    "- createPage\n",
    "- updatepage"
   ]
  },
  {
   "cell_type": "code",
   "execution_count": 7,
   "id": "0761e6d2",
   "metadata": {},
   "outputs": [],
   "source": [
    "def readDatabase(databaseId, headers):\n",
    "    readurl = f\"https://api.notion.com/v1/databases/{databaseId}/query\"\n",
    "    \n",
    "    res = requests.post(readurl, headers=headers)\n",
    "    data = res.json()\n",
    "    print(res.status_code)\n",
    "    \n",
    "    with open(\"./db.json\", \"w\", encoding=\"utf8\") as f:\n",
    "        json.dump(data, f, ensure_ascii=False)"
   ]
  },
  {
   "cell_type": "code",
   "execution_count": 28,
   "id": "d8cb47e0",
   "metadata": {},
   "outputs": [
    {
     "name": "stdout",
     "output_type": "stream",
     "text": [
      "200\n"
     ]
    }
   ],
   "source": [
    "readDatabase(database_id, headers)"
   ]
  },
  {
   "cell_type": "code",
   "execution_count": 8,
   "id": "a7346f5f",
   "metadata": {},
   "outputs": [],
   "source": [
    "properties = {\n",
    "        'Note sur 5' : {'type': 'select', 'select': {'name': '⭐️⭐️⭐️⭐️'}},\n",
    "        'Type' : {'type': 'select', 'select': {'name': 'Film'}},\n",
    "        'Éditeur' : {'type': 'select', 'select': {'name': 'Alexandre Astier', 'color': 'brown'}},\n",
    "        'Statut' :  {'type': 'select', 'select': {'name': 'Terminé', 'color': 'blue'}},\n",
    "        'Nom' :  {'id': 'title', 'type': 'title', 'title': [{'type': 'text', 'text': {'content': 'Naruto', 'link': None}, 'annotations': {'bold': True, 'italic': True, 'strikethrough': False, 'underline': False, 'code': False, 'color': 'default'}, 'plain_text': 'Naruto', 'href': None}]}\n",
    "}"
   ]
  },
  {
   "cell_type": "code",
   "execution_count": 9,
   "id": "c12082e5",
   "metadata": {},
   "outputs": [],
   "source": [
    "data = {\n",
    "    \"properties\" : properties,\n",
    "    \"icon\" : \"👅\"\n",
    "}"
   ]
  },
  {
   "cell_type": "code",
   "execution_count": 10,
   "metadata": {},
   "outputs": [],
   "source": [
    "def buildNotionData(tmdbData):\n",
    "    properties = {\n",
    "        'Note sur 5' : {'type': 'select', 'select': {'name': '⭐️⭐️⭐️⭐️'}},\n",
    "        'Type' : {'type': 'select', 'select': {'name': 'TV'}},\n",
    "        'Éditeur' : {'type': 'select', 'select': {'name': tmdbData[\"source\"]}},\n",
    "        'Statut' :  {'type': 'select', 'select': {'name': 'A voir'}},\n",
    "        'Nom' :  {'id': 'title', 'type': 'title', 'title': [{'type': 'text', 'text': {'content': tmdbData[\"name\"], 'link': tmdbData[\"homepage_link\"]}, 'plain_text': tmdbData[\"name\"], 'href': tmdbData[\"homepage_link\"]}]}\n",
    "}"
   ]
  },
  {
   "cell_type": "code",
   "execution_count": 56,
   "metadata": {},
   "outputs": [
    {
     "data": {
      "text/plain": [
       "{'properties': {'Note sur 5': {'type': 'select',\n",
       "   'select': {'name': '⭐️⭐️⭐️⭐️'}},\n",
       "  'Type': {'type': 'select', 'select': {'name': 'TV'}},\n",
       "  'Éditeur': {'type': 'select', 'select': {'name': 'Amazon'}},\n",
       "  'Statut': {'type': 'select', 'select': {'name': 'A voir'}},\n",
       "  'Nom': {'id': 'title',\n",
       "   'type': 'title',\n",
       "   'title': [{'type': 'text',\n",
       "     'text': {'content': 'The Boys',\n",
       "      'link': 'https://www.amazon.com/dp/B0875L45GK'},\n",
       "     'plain_text': 'The Boys',\n",
       "     'href': 'https://www.amazon.com/dp/B0875L45GK'}]}},\n",
       " 'icon': '👅'}"
      ]
     },
     "execution_count": 56,
     "metadata": {},
     "output_type": "execute_result"
    }
   ],
   "source": [
    "tmdbData = {'properties': {'Note sur 5': {'type': 'select', 'select': {'name': '⭐️⭐️⭐️⭐️'}}, 'Type': {'type': 'select', 'select': {'name': 'TV'}}, 'Éditeur': {'type': 'select', 'select': {'name': 'Amazon'}}, 'Statut': {'type': 'select', 'select': {'name': 'A voir'}}, 'Nom': {'id': 'title', 'type': 'title', 'title': [{'type': 'text', 'text': {'content': 'The Boys', 'link': 'https://www.amazon.com/dp/B0875L45GK'}, 'plain_text': 'The Boys', 'href': 'https://www.amazon.com/dp/B0875L45GK'}]}}, 'icon': '👅'}\n",
    "tmdbData"
   ]
  },
  {
   "cell_type": "code",
   "execution_count": 62,
   "metadata": {},
   "outputs": [],
   "source": [
    "tmdbData = {\n",
    "    'properties' : {\n",
    "        'Note sur 5': {\n",
    "            'select': {'name': '⭐️⭐️⭐️⭐️⭐️'}\n",
    "        },\n",
    "        'Type': {\n",
    "            'select': {'name': 'TV'}\n",
    "        },\n",
    "        'Éditeur': {\n",
    "            'select': {'name': 'Amazon'}\n",
    "        },\n",
    "        'Statut': {\n",
    "            'select': {'name': 'A voir'}\n",
    "        },\n",
    "        'Nom': {\n",
    "            'title': [\n",
    "                {\n",
    "                    'type': 'text',\n",
    "                    'text': {'content': 'The Boys',\n",
    "                    'link': 'https://www.amazon.com/dp/B0875L45GK'},\n",
    "                    'plain_text': 'The Boys',\n",
    "                    'href': 'https://www.amazon.com/dp/B0875L45GK'}\n",
    "            ]\n",
    "        },\n",
    "        'Tags': {\n",
    "            'multi_select': [\n",
    "                {'name': 'Action & Adventure'},\n",
    "                {'name': 'Science-Fiction & Fantastique'}\n",
    "            ]\n",
    "        },\n",
    "        'Lien': {\n",
    "            'url': 'https://www.amazon.com/dp/B0875L45GK'\n",
    "        },\n",
    "        'id': {\n",
    "            'rich_text': [\n",
    "                {\n",
    "                    'text': {'content': '76479'},\n",
    "                    'plain_text': '76479'\n",
    "                }\n",
    "            ]},\n",
    "        'Résumé': {\n",
    "            'rich_text': [\n",
    "                {\n",
    "                    'text': {'content': 'Lorsque les super-héros abusent de leurs super-pouvoirs au lieu de les utiliser pour faire le bien, les Boys se lancent dans une quête héroïque pour révéler la vérité sur The Seven et Vought, le conglomérat qui couvre leurs sales secrets.'},\n",
    "                    'plain_text': 'Lorsque les super-héros abusent de leurs super-pouvoirs au lieu de les utiliser pour faire le bien, les Boys se lancent dans une quête héroïque pour révéler la vérité sur The Seven et Vought, le conglomérat qui couvre leurs sales secrets.'\n",
    "                }\n",
    "            ]\n",
    "        },\n",
    "    },\n",
    "    'icon': '👅',\n",
    "    'cover': {\n",
    "        'external': {\n",
    "            'url': 'https://www.notion.so/images/page-cover/rijksmuseum_claesz_1628.jpg'\n",
    "        }\n",
    "    },\n",
    "}"
   ]
  },
  {
   "cell_type": "code",
   "execution_count": 118,
   "metadata": {},
   "outputs": [],
   "source": [
    "tmdbData = {\n",
    "    'cover': {\n",
    "        'type': 'external',\n",
    "        'external': {'url': 'https://images.unsplash.com/photo-1659535861581-ba057b067494?ixlib=rb-1.2.1&ixid=MnwxMjA3fDF8MHxwaG90by1wYWdlfHx8fGVufDB8fHx8&auto=format&fit=crop&w=687&q=80'}\n",
    "    },\n",
    "    'properties' : {\n",
    "        'Note sur 5': {\n",
    "            'select': {'name': '⭐️⭐️⭐️⭐️⭐️'}\n",
    "        },\n",
    "        'Type': {\n",
    "            'select': {'name': 'Série TV'}\n",
    "        },\n",
    "        'Éditeur': {\n",
    "            'multi_select': [{'name': 'Netflix'}]\n",
    "        },\n",
    "        'Statut': {\n",
    "            'select': {'name': 'A voir'}\n",
    "        },\n",
    "        'Nom': {\n",
    "            'title': [\n",
    "                {\n",
    "                    'text': {'content': 'House of Cards'},\n",
    "                    'plain_text': 'House of Cards',\n",
    "                    'href': 'http://www.netflix.com/title/70178217'}\n",
    "            ]\n",
    "        },\n",
    "        'Tags': {\n",
    "            'multi_select': [\n",
    "                {'name': 'Drame'}\n",
    "            ]\n",
    "        },\n",
    "        'Lien': {\n",
    "            'url': 'http://www.netflix.com/title/70178217'\n",
    "        },\n",
    "        'id': {\n",
    "            'rich_text': [\n",
    "                {\n",
    "                    'text': {'content': '1425'},\n",
    "                    'plain_text': '1425'\n",
    "                }\n",
    "            ]},\n",
    "        'Résumé': {\n",
    "            'rich_text': [\n",
    "                {\n",
    "                    'text': {'content': 'Le membre du Congrès américain Frank Underwood ne recule devant rien pour tout conquérir\\xa0: pouvoir, sexe, corruption, manipulation et avidité.'},\n",
    "                    'plain_text': 'Le membre du Congrès américain Frank Underwood ne recule devant rien pour tout conquérir\\xa0: pouvoir, sexe, corruption, manipulation et avidité.'\n",
    "                }\n",
    "            ]\n",
    "        },\n",
    "    },\n",
    "    'icon': '👅'\n",
    "}"
   ]
  },
  {
   "cell_type": "code",
   "execution_count": 36,
   "id": "e3ac4621",
   "metadata": {},
   "outputs": [],
   "source": [
    "def createPage(databaseId, headers, data):\n",
    "    \n",
    "    createUrl = \"https://api.notion.com/v1/pages\"\n",
    "    \n",
    "    newPageData = {\n",
    "        \"parent\" : {\n",
    "            \"database_id\" : databaseId\n",
    "        },\n",
    "        \"properties\" : data[\"properties\"],\n",
    "        \"icon\" : {'type': 'emoji', 'emoji': data[\"icon\"]} if data[\"icon\"] else None\n",
    "    }\n",
    "    \n",
    "    print(data)\n",
    "    \n",
    "    res = requests.post(createUrl, headers=headers, data=json.dumps(newPageData))\n",
    "    print(res.status_code)\n",
    "    return res\n",
    "    \n",
    "   "
   ]
  },
  {
   "cell_type": "code",
   "execution_count": 130,
   "id": "f2082a52",
   "metadata": {},
   "outputs": [
    {
     "name": "stdout",
     "output_type": "stream",
     "text": [
      "{'cover': {'type': 'external', 'external': {'url': 'https://images.unsplash.com/photo-1659535861581-ba057b067494?ixlib=rb-1.2.1&ixid=MnwxMjA3fDF8MHxwaG90by1wYWdlfHx8fGVufDB8fHx8&auto=format&fit=crop&w=687&q=80'}}, 'properties': {'Note sur 5': {'select': {'name': '⭐️⭐️⭐️⭐️⭐️'}}, 'Type': {'select': {'name': 'Série TV'}}, 'Éditeur': {'multi_select': [{'name': 'Netflix'}]}, 'Statut': {'select': {'name': 'A voir'}}, 'Nom': {'title': [{'text': {'content': 'House of Cards'}, 'plain_text': 'House of Cards', 'href': 'http://www.netflix.com/title/70178217'}]}, 'Tags': {'multi_select': [{'name': 'Drame'}]}, 'Lien': {'url': 'http://www.netflix.com/title/70178217'}, 'id': {'rich_text': [{'text': {'content': '1425'}, 'plain_text': '1425'}]}, 'Résumé': {'rich_text': [{'text': {'content': 'Le membre du Congrès américain Frank Underwood ne recule devant rien pour tout conquérir\\xa0: pouvoir, sexe, corruption, manipulation et avidité.'}, 'plain_text': 'Le membre du Congrès américain Frank Underwood ne recule devant rien pour tout conquérir\\xa0: pouvoir, sexe, corruption, manipulation et avidité.'}]}}, 'icon': '👅'}\n",
      "200\n"
     ]
    }
   ],
   "source": [
    "res = createPage(database_id, headers, tmdbData)"
   ]
  },
  {
   "cell_type": "code",
   "execution_count": 135,
   "id": "aa0bdeab",
   "metadata": {},
   "outputs": [
    {
     "data": {
      "text/plain": [
       "'25b32a8f-b85c-4686-b2dd-ad3dc4e67253'"
      ]
     },
     "execution_count": 135,
     "metadata": {},
     "output_type": "execute_result"
    }
   ],
   "source": [
    "json.loads(res.text)['id']"
   ]
  },
  {
   "cell_type": "code",
   "execution_count": 128,
   "id": "a1939d86",
   "metadata": {},
   "outputs": [],
   "source": [
    "def updatePage(pageId, headers, data):\n",
    "    \n",
    "    updateUrl = f\"https://api.notion.com/v1/pages/{pageId}\"\n",
    "    \n",
    "    updateData = {\n",
    "        \"properties\" : data[\"properties\"],\n",
    "        'cover': {\n",
    "            'type': 'external',\n",
    "            'external': {'url': 'https://image.tmdb.org/t/p/w500/qxUIgZ8GDEfSLTws0zQIxApAAWb.jpg'}\n",
    "        }\n",
    "        # \"icon\" : {'type': 'emoji', 'emoji': data[\"icon\"]} if data[\"icon\"] else None\n",
    "    }\n",
    "    \n",
    "    res = requests.patch(updateUrl, headers=headers, data=json.dumps(updateData))\n",
    "    print(res.status_code)\n",
    "    return res"
   ]
  },
  {
   "cell_type": "code",
   "execution_count": null,
   "metadata": {},
   "outputs": [],
   "source": []
  },
  {
   "cell_type": "code",
   "execution_count": 121,
   "id": "ea004afe",
   "metadata": {},
   "outputs": [],
   "source": [
    "properties = {\n",
    "        'Statut' :  {'select': {'name': 'A voir'}},\n",
    "}"
   ]
  },
  {
   "cell_type": "code",
   "execution_count": 122,
   "id": "05bc3674",
   "metadata": {},
   "outputs": [],
   "source": [
    "data = {\n",
    "    \"properties\" : properties,\n",
    "    \"icon\" : \"👅\"\n",
    "}"
   ]
  },
  {
   "cell_type": "code",
   "execution_count": 129,
   "id": "d03b4003",
   "metadata": {},
   "outputs": [
    {
     "name": "stdout",
     "output_type": "stream",
     "text": [
      "200\n",
      "<Response [200]>\n"
     ]
    }
   ],
   "source": [
    "pageId = \"7f99aefef9c54ffa942f39281d9c8066\"\n",
    "res = updatePage(pageId, headers, data)\n",
    "print(res)"
   ]
  },
  {
   "cell_type": "code",
   "execution_count": null,
   "id": "5c60d6c3",
   "metadata": {},
   "outputs": [],
   "source": []
  },
  {
   "cell_type": "markdown",
   "id": "e828c940",
   "metadata": {},
   "source": [
    "# Script"
   ]
  },
  {
   "cell_type": "code",
   "execution_count": null,
   "id": "2201e29c",
   "metadata": {},
   "outputs": [],
   "source": [
    "import requests\n",
    "import json\n",
    "import traceback\n",
    "import logging\n",
    "\n",
    "database_id = \"42b4713090e341b8b0dd8c5827eed23b\"\n",
    "hall_tv_token = \"secret_FtcSWAqOIjt7PdoSJSO9UUg8biEvkBjsFqVaIc9zGYd\"\n",
    "\n",
    "def getPages(databaseId, headers, query):\n",
    "    logging.info(f\" Start getting page on database\")\n",
    "    url = f\"https://api.notion.com/v1/databases/{databaseId}/query\"\n",
    "\n",
    "    payload = {\"page_size\": 100}\n",
    "    payload[\"filter\"] = query\n",
    "    \n",
    "    try : \n",
    "        response = requests.post(url, json=payload, headers=headers)\n",
    "        response.raise_for_status()\n",
    "        logging.info(f\" Sucessfully get pages from database. status code : {response.status_code}\")\n",
    "        \n",
    "        return response.json()[\"results\"], True\n",
    "        \n",
    "    except Exception as e:\n",
    "        logging.error(traceback.format_exc())\n",
    "        return None, errt\n",
    "    \n",
    "    \n",
    "def readDatabase(databaseId, headers):\n",
    "    logging.info(f\"Start reading database\")\n",
    "    readurl = f\"https://api.notion.com/v1/databases/{databaseId}/query\"\n",
    "    \n",
    "    try:\n",
    "        res = requests.post(readurl, headers=headers)\n",
    "        res.raise_for_status()\n",
    "        data = res.json()\n",
    "        logging.info(f\" Sucessfully read database. status code : {res.status_code}\")\n",
    "\n",
    "        with open(\"./db.json\", \"w\", encoding=\"utf8\") as f:\n",
    "            json.dump(data, f, ensure_ascii=False)\n",
    "            \n",
    "        return True\n",
    "    \n",
    "    except Exception as e:\n",
    "        logging.error(traceback.format_exc())\n",
    "        return False\n",
    "        \n",
    "        \n",
    "def createPage(databaseId, headers, data):\n",
    "    logging.info(f\"Start page creation\")\n",
    "    createUrl = \"https://api.notion.com/v1/pages\"\n",
    "    \n",
    "    newPageData = {\n",
    "        \"parent\" : {\n",
    "            \"database_id\" : databaseId\n",
    "        },\n",
    "        \"properties\" : data[\"properties\"],\n",
    "        \"icon\" : {'type': 'emoji', 'emoji': data[\"icon\"]} if data[\"icon\"] else None\n",
    "    }\n",
    "    \n",
    "    \n",
    "    try:\n",
    "        res = requests.post(createUrl, headers=headers, data=json.dumps(newPageData))\n",
    "        res.raise_for_status()\n",
    "        logging.info(f\" Sucessfully create page in database. status code : {res.status_code}\")\n",
    "        \n",
    "        return res\n",
    "    \n",
    "    except Exception as e:\n",
    "        logging.error(traceback.format_exc())\n",
    "        return None\n",
    "    \n",
    "    \n",
    "def updatePage(pageId, headers, data):\n",
    "    logging.info(f\"Start page update\")\n",
    "    updateUrl = f\"https://api.notion.com/v1/pages/{pageId}\"\n",
    "    \n",
    "    updateData = {\n",
    "        \"properties\" : data[\"properties\"],\n",
    "        \"icon\" : {'type': 'emoji', 'emoji': data[\"icon\"]} if data[\"icon\"] else None\n",
    "    }\n",
    "    \n",
    "    try:\n",
    "        res = requests.patch(updateUrl, headers=headers, data=json.dumps(updateData))\n",
    "        logging.info(f\" page updated successfully in database. status code : {res.status_code}\")\n",
    "        return res\n",
    "    \n",
    "    except Exception as e:\n",
    "        logging.error(traceback.format_exc())\n",
    "        return None\n",
    "    "
   ]
  },
  {
   "cell_type": "code",
   "execution_count": 5,
   "id": "531aa62b",
   "metadata": {},
   "outputs": [
    {
     "data": {
      "text/plain": [
       "True"
      ]
     },
     "execution_count": 5,
     "metadata": {},
     "output_type": "execute_result"
    }
   ],
   "source": [
    "\"TV - better call saul\".lower().startswith(\"tv -\")"
   ]
  },
  {
   "cell_type": "code",
   "execution_count": 6,
   "id": "778760e9",
   "metadata": {},
   "outputs": [],
   "source": [
    "data ={'object': 'page', 'entry': [{'id': '112417554932780', 'time': 1663115622369, 'messaging': [{'sender': {'id': '4875139365920272'}, 'recipient': {'id': '112417554932780'}, 'timestamp': 1663115621654, 'postback': {'title': 'Terminé', 'payload': 'payload 2', 'mid': 'm_Bik3q2JsPzgz1dQDg6Le5GK9_MTANw0XuuN1j5sLcnEUyWQkxfSCX5cNWd9SX_-hKy9acGgLV6MCtrhRzN7w0w'}}]}]}\n"
   ]
  },
  {
   "cell_type": "code",
   "execution_count": 13,
   "id": "46363212",
   "metadata": {},
   "outputs": [
    {
     "data": {
      "text/plain": [
       "{'title': 'Terminé',\n",
       " 'payload': 'payload 2',\n",
       " 'mid': 'm_Bik3q2JsPzgz1dQDg6Le5GK9_MTANw0XuuN1j5sLcnEUyWQkxfSCX5cNWd9SX_-hKy9acGgLV6MCtrhRzN7w0w'}"
      ]
     },
     "execution_count": 13,
     "metadata": {},
     "output_type": "execute_result"
    }
   ],
   "source": [
    "data[\"entry\"][0][\"messaging\"][0][\"postback\"]"
   ]
  },
  {
   "cell_type": "code",
   "execution_count": null,
   "id": "b89eeeb3",
   "metadata": {},
   "outputs": [],
   "source": []
  }
 ],
 "metadata": {
  "interpreter": {
   "hash": "916dbcbb3f70747c44a77c7bcd40155683ae19c65e1c03b4aa3499c5328201f1"
  },
  "kernelspec": {
   "display_name": "Python 3.7.3 64-bit",
   "name": "python3"
  },
  "language_info": {
   "codemirror_mode": {
    "name": "ipython",
    "version": 3
   },
   "file_extension": ".py",
   "mimetype": "text/x-python",
   "name": "python",
   "nbconvert_exporter": "python",
   "pygments_lexer": "ipython3",
   "version": "3.7.3"
  }
 },
 "nbformat": 4,
 "nbformat_minor": 5
}
